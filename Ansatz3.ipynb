{
 "cells": [
  {
   "cell_type": "code",
   "execution_count": 1,
   "metadata": {},
   "outputs": [],
   "source": [
    "import pandas as pd\n",
    "import numpy as np\n",
    "import ocel \n",
    "import os\n",
    "import pprint\n",
    "from prettytable import PrettyTable\n",
    "from IPython.display import display\n",
    "import pm4py\n",
    "import scipy.signal\n",
    "from scipy.signal import find_peaks\n",
    "import matplotlib.pyplot as plt\n",
    "import json\n",
    "from ocpa.objects.log.importer.ocel import factory as ocel_import_factory\n",
    "from pyclustering.cluster.optics import optics\n",
    "from pylab import *\n",
    "import itertools\n",
    "from ocpa.algo.discovery.ocpn import algorithm as ocpn_discovery_factory\n",
    "from ocpa.visualization.oc_petri_net import factory as ocpn_vis_factory\n",
    "from ocpa.algo.predictive_monitoring import factory as predictive_monitoring\n",
    "from ocpa.algo.predictive_monitoring import tabular, sequential\n",
    "from collections import defaultdict\n",
    "from sklearn.metrics import roc_auc_score, f1_score, average_precision_score, precision_score, recall_score"
   ]
  },
  {
   "cell_type": "code",
   "execution_count": 1,
   "metadata": {},
   "outputs": [],
   "source": [
    "def anomaly_detection(targetDataset, minpoints, objecttype, data_ocel, eps, prominence):    \n",
    "    #PARAMs#\n",
    "    minpts = minpoints\n",
    "    #eps = 20\n",
    "    #prominence = 0.3\n",
    "    d = {}\n",
    "    Z = defaultdict(dict)\n",
    "    remap_cids = []\n",
    "    all_rels = []\n",
    "    cids = []\n",
    "    ocdfg = pm4py.discover_ocdfg(data_ocel)\n",
    "    data = targetDataset\n",
    "    target_objects = []\n",
    "    for object in data['ocel:objects']:\n",
    "        if data['ocel:objects'][object]['ocel:type'] == objecttype:\n",
    "            target_objects.append(object)\n",
    "    for object in target_objects:\n",
    "        Z[object] = {}\n",
    "    #for object in ocdfg['edges']['event_couples']:   \n",
    "    for act_rel in ocdfg['edges']['event_couples'][objecttype]:\n",
    "        z = defaultdict(dict)\n",
    "        for e1, e2 in ocdfg['edges']['event_couples'][objecttype][act_rel]:\n",
    "            for object in data['ocel:events'][e1]['ocel:omap']:\n",
    "                if data['ocel:objects'][object]['ocel:type'] == objecttype:\n",
    "                    cid = object\n",
    "            if objecttype == 'offer':\n",
    "                rel = act_rel\n",
    "            else:\n",
    "                a1 = data['ocel:events'][e1]['ocel:vmap']['event']\n",
    "                a2 = data['ocel:events'][e2]['ocel:vmap']['event']\n",
    "                rel = a1+\"->\"+a2\n",
    "            \n",
    "            #a1 = data['ocel:events'][e1]['ocel:vmap']['event'] #a1 = data['ocel:events'][e1]['ocel:vmap']['event'] or ['ocel:activity']\n",
    "            t1 = pd.to_datetime(data['ocel:events'][e1]['ocel:timestamp'])\n",
    "            #a2 = data['ocel:events'][e2]['ocel:vmap']['event'] #a2 = data['ocel:events'][e2]['ocel:vmap']['event'] or ['ocel:activity']\n",
    "            t2 = pd.to_datetime(data['ocel:events'][e2]['ocel:timestamp'])\n",
    "            #rel = a1+\"->\"+a2\n",
    "            \n",
    "            diff = (t2 - t1).total_seconds()\n",
    "            if rel in d:\n",
    "                d[rel].append(diff)\n",
    "            else:\n",
    "                d[rel] = [diff]\n",
    "            #z[rel] = diff\n",
    "            # if rel in Z[cid][z]:\n",
    "            #     Z[cid][z].update({rel: diff})\n",
    "            # else:\n",
    "            #     Z[cid][z][rel] = diff\n",
    "            Z[cid][rel] = diff\n",
    "            #Z[tid] = {rel: [diff]}\n",
    "        #Z[act_rel] = z \n",
    "    avg = {}\n",
    "    std = {}\n",
    "    ext = {}\n",
    "\n",
    "    for rel, values in d.items():\n",
    "        avg[rel] = np.mean(values)\n",
    "        std[rel] = np.std(values)\n",
    "        ext[rel] = np.max(np.abs(values))\n",
    "        \n",
    "\n",
    "    rels = list(d.keys())\n",
    "\n",
    "\n",
    "    test_time = []\n",
    "\n",
    "        \n",
    "    # standardizing\n",
    "    Zstd = {}\n",
    "    for cid, trace in Z.items():\n",
    "        vstd = {}\n",
    "        for rel, value in trace.items():\n",
    "            vstd[rel] = (value-avg[rel])\n",
    "            if std[rel] == 0:\n",
    "                vstd[rel] = 0\n",
    "            else:\n",
    "                vstd[rel] /= std[rel]\n",
    "        Zstd[cid] = vstd\n",
    "        \n",
    "    cids = Z.keys()\n",
    "\n",
    "    Zvectors = []\n",
    "\n",
    "    for cid in cids:\n",
    "        \n",
    "        temp = Zstd[cid]\n",
    "        dummy = []\n",
    "        for rel in rels:\n",
    "            if rel in temp:\n",
    "                dummy.append(temp[rel])\n",
    "            else:\n",
    "                dummy.append(0.0)\n",
    "        Zvectors.append(dummy)\n",
    "        remap_cids.append(cid)\n",
    "\n",
    "\n",
    "\n",
    "    print(\"Number of traces: \", len(Zvectors))\n",
    "    print(\"Number of relations: \", len(rels))\n",
    "\n",
    "    optics_instance = optics(Zvectors, eps, minpts)\n",
    "\n",
    "    optics_instance.process()\n",
    "\n",
    "    clusters = optics_instance.get_clusters()\n",
    "    noise = optics_instance.get_noise()\n",
    "\n",
    "    reach = pd.Series(optics_instance.get_ordering())\n",
    "    left = max(reach)\n",
    "\n",
    "    reach_smoothed = scipy.signal.savgol_filter(reach, 5, 3)\n",
    "\n",
    "    if(len(reach)%2 == 0):\n",
    "        l = len(reach)-1\n",
    "    else:\n",
    "        l = len(reach)-2\n",
    "\n",
    "    yhat = scipy.signal.savgol_filter(reach, l, 3)\n",
    "\n",
    "\n",
    "\n",
    "    coord1 = [np.array((x,reach_smoothed[x])) for x in range(len(reach_smoothed))]\n",
    "    coord2 = [np.array((x,yhat[x])) for x in range(len(yhat))]\n",
    "\n",
    "\n",
    "    diffy = (yhat-reach_smoothed)*yhat\n",
    "\n",
    "\n",
    "    yhatclip = np.clip(diffy, 0, np.max(diffy))\n",
    "\n",
    "\n",
    "    peaks, properties = find_peaks(yhatclip, prominence=prominence, width=minpts/2.0)\n",
    "\n",
    "\n",
    "    cc = {}\n",
    "    cluster_objects_ids = {}\n",
    "    entropy_all = {}\n",
    "\n",
    "    outliers_list = []\n",
    "\n",
    "    clusters = [val for sublist in clusters for val in sublist]\n",
    "\n",
    "    for k in range(len(peaks)):\n",
    "        left = np.ceil(properties[\"left_ips\"][k])\n",
    "        right = np.floor(properties[\"right_ips\"][k])\n",
    "        cc[k] = [clusters[l] for l in range(int(left),int(right))]\n",
    "        \n",
    "        outliers_list.extend(cc[k])\n",
    "        cluster = [Zvectors[l] for l in cc[k]]\n",
    "        \n",
    "        cluster_objects_ids[k] = [remap_cids[o] for o in cc[k]]\n",
    "        \n",
    "        entropies = []\n",
    "        for i in range(len(rels)):\n",
    "            rel = rels[i]\n",
    "            e = np.std([v[i] for v in cluster])\n",
    "            mean = np.mean([v[i] for v in cluster])\n",
    "            \n",
    "            entropies.append((e,rel, mean))\n",
    "            \n",
    "        entropy_all[k] = entropies\n",
    "        \n",
    "    fig, ax1 = plt.subplots(figsize=(8,2))\n",
    "    #fig = plt.figure(figsize=(8, 4), dpi=dpi)\n",
    "\n",
    "    plt.plot(reach_smoothed)\n",
    "    plt.plot(yhat, color='red')\n",
    "\n",
    "    if len(peaks) == 1:\n",
    "        xs = np.arange(int(properties[\"left_ips\"]), int(properties[\"right_ips\"]), 1)\n",
    "        ax1.fill_between(xs, reach_smoothed[int(properties[\"left_ips\"]):int(properties[\"right_ips\"])], yhat[int(properties[\"left_ips\"]):int(properties[\"right_ips\"])], color='00', alpha=0.3)\n",
    "    elif len(peaks) > 1:\n",
    "        for i in range(len(peaks)):\n",
    "            xs = np.arange(int(properties[\"left_ips\"][i]), int(properties[\"right_ips\"][i]), 1)\n",
    "            ax1.fill_between(xs, reach_smoothed[int(properties[\"left_ips\"][i]):int(properties[\"right_ips\"][i])], yhat[int(properties[\"left_ips\"][i]):int(properties[\"right_ips\"][i])], color='00', alpha=0.3) \n",
    "    #plt.vlines(x=peaks, ymin=reach_smoothed[peaks], ymax = yhat[peaks], color = \"C1\")\n",
    "    #plt.hlines(y=reach_smoothed[peaks], xmin=properties[\"left_ips\"], xmax=properties[\"right_ips\"], color = \"C1\")\n",
    "    plt.title('TOAD plot')\n",
    "    plt.ylabel('Reachability Distance')\n",
    "    plt.xlabel('Traces')\n",
    "    plt.show()\n",
    "    #print(cluster_objects_ids)\n",
    "    predicted_anomalies = []\n",
    "    for x in cluster_objects_ids.keys():\n",
    "        for entry in cluster_objects_ids[x]:\n",
    "            predicted_anomalies.append(entry)\n",
    "    return predicted_anomalies\n",
    "        "
   ]
  },
  {
   "cell_type": "code",
   "execution_count": 3,
   "metadata": {},
   "outputs": [],
   "source": [
    "def txt_to_list(filepath):    \n",
    "    # opening the file in read mode \n",
    "    my_file = open(filepath, \"r\") \n",
    "    \n",
    "    # reading the file \n",
    "    anomalycids = my_file.read() \n",
    "    \n",
    "    # replacing end splitting the text  \n",
    "    # when newline ('\\n') is seen. \n",
    "    anomalycids_list = anomalycids.split(\"\\n\")\n",
    "    for x in anomalycids_list:\n",
    "        if x == '':\n",
    "            anomalycids_list.remove(x) \n",
    "    my_file.close()\n",
    "    return anomalycids_list "
   ]
  },
  {
   "cell_type": "code",
   "execution_count": 4,
   "metadata": {},
   "outputs": [],
   "source": [
    "def listCaseIds(targetDataset):   \n",
    "    caseIDs = []\n",
    "    for event in targetDataset['ocel:events']:\n",
    "        caseIDs.append(targetDataset['ocel:events'][event]['ocel:vmap']['cID'])\n",
    "    caseIDs = list(set(caseIDs)) \n",
    "    return caseIDs       "
   ]
  },
  {
   "cell_type": "code",
   "execution_count": 5,
   "metadata": {},
   "outputs": [],
   "source": [
    "def listObjectIds(targetDataset, ocel): \n",
    "    object_type = pm4py.ocel_get_object_types(ocel)[0] \n",
    "    objectIDs = []\n",
    "    for object in targetDataset['ocel:objects']:\n",
    "        if targetDataset['ocel:objects'][object]['ocel:type'] == object_type:\n",
    "            objectIDs.append(object)\n",
    "    objectIDs = list(set(objectIDs)) \n",
    "    return objectIDs     "
   ]
  },
  {
   "cell_type": "code",
   "execution_count": null,
   "metadata": {},
   "outputs": [],
   "source": [
    "def metrics(data_filepath, anomaly_filepath, eps, prom):    \n",
    "    data_ocel = pm4py.read_ocel(data_filepath)\n",
    "    with open(data_filepath, 'r') as file:\n",
    "        targetDataset = json.load(file)\n",
    "    anomalyobjects_list = txt_to_list(anomaly_filepath)\n",
    "    #ocdfg = pm4py.discover_ocdfg(bpi15)\n",
    "    #Parameters\n",
    "    minpoints = [5, 10, 15, 20, 25] #[2, 4, 5, 10] #[5, 15, 20, 25, 30, 35, 40, 45]\n",
    "    objecttype = pm4py.ocel_get_object_types(data_ocel)[0] #'Application' 'offer'\n",
    "    #true labels\n",
    "    y_true = []\n",
    "    #list of all case ids\n",
    "    cids = listObjectIds(targetDataset, data_ocel)\n",
    "    for cid in cids:\n",
    "        if str(cid) in anomalyobjects_list:\n",
    "            y_true.append(1)\n",
    "        else:\n",
    "            y_true.append(0)\n",
    "    #counter depicting the number of times each case id has been identified as anomalous\n",
    "    anomaly_counts = np.zeros(len(cids))\n",
    "    #F1-Score for each minpoints value\n",
    "    f1_scores = []\n",
    "    precisionlist = []\n",
    "    recalllist = []          \n",
    "    for minPts in minpoints:\n",
    "        predAnomalies = anomaly_detection(targetDataset, minPts, objecttype, data_ocel, eps, prom)\n",
    "        y_pred = []\n",
    "        for cid in cids:\n",
    "            if cid in predAnomalies:\n",
    "                y_pred.append(1)\n",
    "            else:\n",
    "                y_pred.append(0)\n",
    "        f1 = float(f1_score(y_true, y_pred))\n",
    "        f1_scores.append(f1)\n",
    "        precision = float(precision_score(y_true, y_pred))\n",
    "        recall = float(recall_score(y_true, y_pred))\n",
    "        anomaly_counts += y_pred\n",
    "        print('F1-Score for minpts value ' + str(minPts) + ':' )\n",
    "        display(f1)\n",
    "        print('Precision-Score for minpts value ' + str(minPts) + ':' )\n",
    "        display(precision)\n",
    "        print('Precision-Score for minpts value ' + str(minPts) + ':' )\n",
    "        display(recall)\n",
    "        precisionlist.append(precision)\n",
    "        recalllist.append(recall)\n",
    "        #display(y_pred)\n",
    "        #display(predAnomalies)\n",
    "            \n",
    "    #Normalize anomaly counts to get continuous anomaly scores for the auc calculations\n",
    "    anomaly_scores = anomaly_counts / len(minpoints)\n",
    "    #AUC ROC score\n",
    "    rocauc = roc_auc_score(y_true, anomaly_scores)\n",
    "    #AUC PR score\n",
    "    aucpr = average_precision_score(y_true, anomaly_scores)\n",
    "    #Mean of F1-Scores\n",
    "    mean_f1 = np.mean(f1_scores)\n",
    "    print('AUC ROC Score for minPTS [5, 15, 20, 25, 30, 35, 40, 45]: is: ')\n",
    "    display(rocauc)\n",
    "    print('AUC PR Score for minPTS [5, 15, 20, 25, 30, 35, 40, 45]: is: ')\n",
    "    display(aucpr)\n",
    "    print('Mean F1-Score for minPTS [5, 15, 20, 25, 30, 35, 40, 45]: is: ') \n",
    "    display(mean_f1)\n",
    "    mean_precision = float(np.mean(precisionlist))\n",
    "    mean_recall = float(np.mean(recalllist))\n",
    "    results_dict = {'F1': round(mean_f1,2),\n",
    "                    'AUC ROC': round(rocauc,2),\n",
    "                    'AUC Precision-Recall': round(aucpr,2),\n",
    "                    'Mean Precision' : round(mean_precision,2),\n",
    "                    'Mean Recall' : round(mean_recall,2)\n",
    "                    }\n",
    "    results_df = pd.DataFrame([results_dict], index=[0])\n",
    "    return results_df"
   ]
  },
  {
   "cell_type": "code",
   "execution_count": 37,
   "metadata": {},
   "outputs": [
    {
     "name": "stdout",
     "output_type": "stream",
     "text": [
      "Number of traces:  5000\n",
      "Number of relations:  14\n"
     ]
    },
    {
     "data": {
      "image/png": "[encoded data removed]",
      "text/plain": [
       "<Figure size 800x200 with 1 Axes>"
      ]
     },
     "metadata": {},
     "output_type": "display_data"
    },
    {
     "name": "stdout",
     "output_type": "stream",
     "text": [
      "F1-Score for minpts value 5:\n"
     ]
    },
    {
     "name": "stderr",
     "output_type": "stream",
     "text": [
      "c:\\Users\\alper\\hello\\.venv\\lib\\site-packages\\sklearn\\metrics\\_classification.py:1531: UndefinedMetricWarning: Precision is ill-defined and being set to 0.0 due to no predicted samples. Use `zero_division` parameter to control this behavior.\n",
      "  _warn_prf(average, modifier, f\"{metric.capitalize()} is\", len(result))\n"
     ]
    },
    {
     "data": {
      "text/plain": [
       "0.0"
      ]
     },
     "metadata": {},
     "output_type": "display_data"
    },
    {
     "name": "stdout",
     "output_type": "stream",
     "text": [
      "Precision-Score for minpts value 5:\n"
     ]
    },
    {
     "data": {
      "text/plain": [
       "0.0"
      ]
     },
     "metadata": {},
     "output_type": "display_data"
    },
    {
     "name": "stdout",
     "output_type": "stream",
     "text": [
      "Precision-Score for minpts value 5:\n"
     ]
    },
    {
     "data": {
      "text/plain": [
       "0.0"
      ]
     },
     "metadata": {},
     "output_type": "display_data"
    },
    {
     "data": {
      "text/plain": [
       "[]"
      ]
     },
     "metadata": {},
     "output_type": "display_data"
    },
    {
     "name": "stdout",
     "output_type": "stream",
     "text": [
      "Number of traces:  5000\n",
      "Number of relations:  14\n"
     ]
    },
    {
     "data": {
      "image/png": "[encoded data removed]",
      "text/plain": [
       "<Figure size 800x200 with 1 Axes>"
      ]
     },
     "metadata": {},
     "output_type": "display_data"
    },
    {
     "name": "stdout",
     "output_type": "stream",
     "text": [
      "F1-Score for minpts value 10:\n"
     ]
    },
    {
     "name": "stderr",
     "output_type": "stream",
     "text": [
      "c:\\Users\\alper\\hello\\.venv\\lib\\site-packages\\sklearn\\metrics\\_classification.py:1531: UndefinedMetricWarning: Precision is ill-defined and being set to 0.0 due to no predicted samples. Use `zero_division` parameter to control this behavior.\n",
      "  _warn_prf(average, modifier, f\"{metric.capitalize()} is\", len(result))\n"
     ]
    },
    {
     "data": {
      "text/plain": [
       "0.0"
      ]
     },
     "metadata": {},
     "output_type": "display_data"
    },
    {
     "name": "stdout",
     "output_type": "stream",
     "text": [
      "Precision-Score for minpts value 10:\n"
     ]
    },
    {
     "data": {
      "text/plain": [
       "0.0"
      ]
     },
     "metadata": {},
     "output_type": "display_data"
    },
    {
     "name": "stdout",
     "output_type": "stream",
     "text": [
      "Precision-Score for minpts value 10:\n"
     ]
    },
    {
     "data": {
      "text/plain": [
       "0.0"
      ]
     },
     "metadata": {},
     "output_type": "display_data"
    },
    {
     "data": {
      "text/plain": [
       "[]"
      ]
     },
     "metadata": {},
     "output_type": "display_data"
    },
    {
     "name": "stdout",
     "output_type": "stream",
     "text": [
      "Number of traces:  5000\n",
      "Number of relations:  14\n"
     ]
    },
    {
     "data": {
      "image/png": "[encoded data removed]",
      "text/plain": [
       "<Figure size 800x200 with 1 Axes>"
      ]
     },
     "metadata": {},
     "output_type": "display_data"
    },
    {
     "name": "stdout",
     "output_type": "stream",
     "text": [
      "F1-Score for minpts value 15:\n"
     ]
    },
    {
     "name": "stderr",
     "output_type": "stream",
     "text": [
      "c:\\Users\\alper\\hello\\.venv\\lib\\site-packages\\sklearn\\metrics\\_classification.py:1531: UndefinedMetricWarning: Precision is ill-defined and being set to 0.0 due to no predicted samples. Use `zero_division` parameter to control this behavior.\n",
      "  _warn_prf(average, modifier, f\"{metric.capitalize()} is\", len(result))\n"
     ]
    },
    {
     "data": {
      "text/plain": [
       "0.0"
      ]
     },
     "metadata": {},
     "output_type": "display_data"
    },
    {
     "name": "stdout",
     "output_type": "stream",
     "text": [
      "Precision-Score for minpts value 15:\n"
     ]
    },
    {
     "data": {
      "text/plain": [
       "0.0"
      ]
     },
     "metadata": {},
     "output_type": "display_data"
    },
    {
     "name": "stdout",
     "output_type": "stream",
     "text": [
      "Precision-Score for minpts value 15:\n"
     ]
    },
    {
     "data": {
      "text/plain": [
       "0.0"
      ]
     },
     "metadata": {},
     "output_type": "display_data"
    },
    {
     "data": {
      "text/plain": [
       "[]"
      ]
     },
     "metadata": {},
     "output_type": "display_data"
    },
    {
     "name": "stdout",
     "output_type": "stream",
     "text": [
      "Number of traces:  5000\n",
      "Number of relations:  14\n"
     ]
    },
    {
     "data": {
      "image/png": "[encoded data removed]",
      "text/plain": [
       "<Figure size 800x200 with 1 Axes>"
      ]
     },
     "metadata": {},
     "output_type": "display_data"
    },
    {
     "name": "stdout",
     "output_type": "stream",
     "text": [
      "F1-Score for minpts value 20:\n"
     ]
    },
    {
     "name": "stderr",
     "output_type": "stream",
     "text": [
      "c:\\Users\\alper\\hello\\.venv\\lib\\site-packages\\sklearn\\metrics\\_classification.py:1531: UndefinedMetricWarning: Precision is ill-defined and being set to 0.0 due to no predicted samples. Use `zero_division` parameter to control this behavior.\n",
      "  _warn_prf(average, modifier, f\"{metric.capitalize()} is\", len(result))\n"
     ]
    },
    {
     "data": {
      "text/plain": [
       "0.0"
      ]
     },
     "metadata": {},
     "output_type": "display_data"
    },
    {
     "name": "stdout",
     "output_type": "stream",
     "text": [
      "Precision-Score for minpts value 20:\n"
     ]
    },
    {
     "data": {
      "text/plain": [
       "0.0"
      ]
     },
     "metadata": {},
     "output_type": "display_data"
    },
    {
     "name": "stdout",
     "output_type": "stream",
     "text": [
      "Precision-Score for minpts value 20:\n"
     ]
    },
    {
     "data": {
      "text/plain": [
       "0.0"
      ]
     },
     "metadata": {},
     "output_type": "display_data"
    },
    {
     "data": {
      "text/plain": [
       "[]"
      ]
     },
     "metadata": {},
     "output_type": "display_data"
    },
    {
     "name": "stdout",
     "output_type": "stream",
     "text": [
      "Number of traces:  5000\n",
      "Number of relations:  14\n"
     ]
    },
    {
     "data": {
      "image/png": "[encoded data removed]",
      "text/plain": [
       "<Figure size 800x200 with 1 Axes>"
      ]
     },
     "metadata": {},
     "output_type": "display_data"
    },
    {
     "name": "stdout",
     "output_type": "stream",
     "text": [
      "F1-Score for minpts value 25:\n"
     ]
    },
    {
     "name": "stderr",
     "output_type": "stream",
     "text": [
      "c:\\Users\\alper\\hello\\.venv\\lib\\site-packages\\sklearn\\metrics\\_classification.py:1531: UndefinedMetricWarning: Precision is ill-defined and being set to 0.0 due to no predicted samples. Use `zero_division` parameter to control this behavior.\n",
      "  _warn_prf(average, modifier, f\"{metric.capitalize()} is\", len(result))\n"
     ]
    },
    {
     "data": {
      "text/plain": [
       "0.0"
      ]
     },
     "metadata": {},
     "output_type": "display_data"
    },
    {
     "name": "stdout",
     "output_type": "stream",
     "text": [
      "Precision-Score for minpts value 25:\n"
     ]
    },
    {
     "data": {
      "text/plain": [
       "0.0"
      ]
     },
     "metadata": {},
     "output_type": "display_data"
    },
    {
     "name": "stdout",
     "output_type": "stream",
     "text": [
      "Precision-Score for minpts value 25:\n"
     ]
    },
    {
     "data": {
      "text/plain": [
       "0.0"
      ]
     },
     "metadata": {},
     "output_type": "display_data"
    },
    {
     "data": {
      "text/plain": [
       "[]"
      ]
     },
     "metadata": {},
     "output_type": "display_data"
    },
    {
     "name": "stdout",
     "output_type": "stream",
     "text": [
      "AUC ROC Score for minPTS [5, 15, 20, 25, 30, 35, 40, 45]: is: \n"
     ]
    },
    {
     "data": {
      "text/plain": [
       "np.float64(0.5)"
      ]
     },
     "metadata": {},
     "output_type": "display_data"
    },
    {
     "name": "stdout",
     "output_type": "stream",
     "text": [
      "AUC PR Score for minPTS [5, 15, 20, 25, 30, 35, 40, 45]: is: \n"
     ]
    },
    {
     "data": {
      "text/plain": [
       "np.float64(0.0202)"
      ]
     },
     "metadata": {},
     "output_type": "display_data"
    },
    {
     "name": "stdout",
     "output_type": "stream",
     "text": [
      "Mean F1-Score for minPTS [5, 15, 20, 25, 30, 35, 40, 45]: is: \n"
     ]
    },
    {
     "data": {
      "text/plain": [
       "np.float64(0.0)"
      ]
     },
     "metadata": {},
     "output_type": "display_data"
    }
   ],
   "source": [
    "ansatz3_bpi17_results = metrics('BPIC17_offer_first5000traces.jsonocel', 'BPIC17_offer_first5000traces_anomalous_app_objects.txt', 10, 1.2)"
   ]
  },
  {
   "cell_type": "code",
   "execution_count": 29,
   "metadata": {},
   "outputs": [
    {
     "name": "stdout",
     "output_type": "stream",
     "text": [
      "Number of traces:  1199\n",
      "Number of relations:  85\n"
     ]
    },
    {
     "name": "stderr",
     "output_type": "stream",
     "text": [
      "C:\\Users\\alper\\AppData\\Local\\Temp\\ipykernel_9928\\2836719356.py:164: DeprecationWarning: Conversion of an array with ndim > 0 to a scalar is deprecated, and will error in future. Ensure you extract a single element from your array before performing this operation. (Deprecated NumPy 1.25.)\n",
      "  xs = np.arange(int(properties[\"left_ips\"]), int(properties[\"right_ips\"]), 1)\n",
      "C:\\Users\\alper\\AppData\\Local\\Temp\\ipykernel_9928\\2836719356.py:165: DeprecationWarning: Conversion of an array with ndim > 0 to a scalar is deprecated, and will error in future. Ensure you extract a single element from your array before performing this operation. (Deprecated NumPy 1.25.)\n",
      "  ax1.fill_between(xs, reach_smoothed[int(properties[\"left_ips\"]):int(properties[\"right_ips\"])], yhat[int(properties[\"left_ips\"]):int(properties[\"right_ips\"])], color='00', alpha=0.3)\n"
     ]
    },
    {
     "data": {
      "image/png": "[encoded data removed]",
      "text/plain": [
       "<Figure size 800x200 with 1 Axes>"
      ]
     },
     "metadata": {},
     "output_type": "display_data"
    },
    {
     "name": "stdout",
     "output_type": "stream",
     "text": [
      "F1-Score for minpts value 5:\n"
     ]
    },
    {
     "data": {
      "text/plain": [
       "0.8604651162790697"
      ]
     },
     "metadata": {},
     "output_type": "display_data"
    },
    {
     "name": "stdout",
     "output_type": "stream",
     "text": [
      "Precision-Score for minpts value 5:\n"
     ]
    },
    {
     "data": {
      "text/plain": [
       "1.0"
      ]
     },
     "metadata": {},
     "output_type": "display_data"
    },
    {
     "name": "stdout",
     "output_type": "stream",
     "text": [
      "Precision-Score for minpts value 5:\n"
     ]
    },
    {
     "data": {
      "text/plain": [
       "0.7551020408163265"
      ]
     },
     "metadata": {},
     "output_type": "display_data"
    },
    {
     "data": {
      "text/plain": [
       "['48456',\n",
       " '48510',\n",
       " '49053',\n",
       " '49058',\n",
       " '49041',\n",
       " '48980',\n",
       " '49116',\n",
       " '48507',\n",
       " '49079',\n",
       " '48466',\n",
       " '48514',\n",
       " '48605',\n",
       " '48500',\n",
       " '48470',\n",
       " '48596',\n",
       " '48338',\n",
       " '48295',\n",
       " '48358',\n",
       " '48252',\n",
       " '48427',\n",
       " '48310',\n",
       " '48348',\n",
       " '48558',\n",
       " '48594',\n",
       " '49040',\n",
       " '49051',\n",
       " '48525',\n",
       " '48426',\n",
       " '48652',\n",
       " '48349',\n",
       " '49000',\n",
       " '48331',\n",
       " '48415',\n",
       " '48275',\n",
       " '48582',\n",
       " '48437',\n",
       " '49009']"
      ]
     },
     "metadata": {},
     "output_type": "display_data"
    },
    {
     "name": "stdout",
     "output_type": "stream",
     "text": [
      "Number of traces:  1199\n",
      "Number of relations:  85\n"
     ]
    },
    {
     "name": "stderr",
     "output_type": "stream",
     "text": [
      "C:\\Users\\alper\\AppData\\Local\\Temp\\ipykernel_9928\\2836719356.py:164: DeprecationWarning: Conversion of an array with ndim > 0 to a scalar is deprecated, and will error in future. Ensure you extract a single element from your array before performing this operation. (Deprecated NumPy 1.25.)\n",
      "  xs = np.arange(int(properties[\"left_ips\"]), int(properties[\"right_ips\"]), 1)\n",
      "C:\\Users\\alper\\AppData\\Local\\Temp\\ipykernel_9928\\2836719356.py:165: DeprecationWarning: Conversion of an array with ndim > 0 to a scalar is deprecated, and will error in future. Ensure you extract a single element from your array before performing this operation. (Deprecated NumPy 1.25.)\n",
      "  ax1.fill_between(xs, reach_smoothed[int(properties[\"left_ips\"]):int(properties[\"right_ips\"])], yhat[int(properties[\"left_ips\"]):int(properties[\"right_ips\"])], color='00', alpha=0.3)\n"
     ]
    },
    {
     "data": {
      "image/png": "[encoded data removed]",
      "text/plain": [
       "<Figure size 800x200 with 1 Axes>"
      ]
     },
     "metadata": {},
     "output_type": "display_data"
    },
    {
     "name": "stdout",
     "output_type": "stream",
     "text": [
      "F1-Score for minpts value 10:\n"
     ]
    },
    {
     "data": {
      "text/plain": [
       "0.8863636363636364"
      ]
     },
     "metadata": {},
     "output_type": "display_data"
    },
    {
     "name": "stdout",
     "output_type": "stream",
     "text": [
      "Precision-Score for minpts value 10:\n"
     ]
    },
    {
     "data": {
      "text/plain": [
       "1.0"
      ]
     },
     "metadata": {},
     "output_type": "display_data"
    },
    {
     "name": "stdout",
     "output_type": "stream",
     "text": [
      "Precision-Score for minpts value 10:\n"
     ]
    },
    {
     "data": {
      "text/plain": [
       "0.7959183673469388"
      ]
     },
     "metadata": {},
     "output_type": "display_data"
    },
    {
     "data": {
      "text/plain": [
       "['48434',\n",
       " '48456',\n",
       " '48510',\n",
       " '49053',\n",
       " '49058',\n",
       " '49041',\n",
       " '48980',\n",
       " '49116',\n",
       " '48507',\n",
       " '48500',\n",
       " '48295',\n",
       " '48338',\n",
       " '49079',\n",
       " '48427',\n",
       " '48605',\n",
       " '48358',\n",
       " '48252',\n",
       " '48310',\n",
       " '48348',\n",
       " '48558',\n",
       " '48466',\n",
       " '49040',\n",
       " '48514',\n",
       " '48596',\n",
       " '48594',\n",
       " '49051',\n",
       " '48470',\n",
       " '48652',\n",
       " '48426',\n",
       " '48349',\n",
       " '49000',\n",
       " '48525',\n",
       " '48331',\n",
       " '48415',\n",
       " '48275',\n",
       " '48582',\n",
       " '48437',\n",
       " '49009',\n",
       " '48671']"
      ]
     },
     "metadata": {},
     "output_type": "display_data"
    },
    {
     "name": "stdout",
     "output_type": "stream",
     "text": [
      "Number of traces:  1199\n",
      "Number of relations:  85\n"
     ]
    },
    {
     "name": "stderr",
     "output_type": "stream",
     "text": [
      "C:\\Users\\alper\\AppData\\Local\\Temp\\ipykernel_9928\\2836719356.py:164: DeprecationWarning: Conversion of an array with ndim > 0 to a scalar is deprecated, and will error in future. Ensure you extract a single element from your array before performing this operation. (Deprecated NumPy 1.25.)\n",
      "  xs = np.arange(int(properties[\"left_ips\"]), int(properties[\"right_ips\"]), 1)\n",
      "C:\\Users\\alper\\AppData\\Local\\Temp\\ipykernel_9928\\2836719356.py:165: DeprecationWarning: Conversion of an array with ndim > 0 to a scalar is deprecated, and will error in future. Ensure you extract a single element from your array before performing this operation. (Deprecated NumPy 1.25.)\n",
      "  ax1.fill_between(xs, reach_smoothed[int(properties[\"left_ips\"]):int(properties[\"right_ips\"])], yhat[int(properties[\"left_ips\"]):int(properties[\"right_ips\"])], color='00', alpha=0.3)\n"
     ]
    },
    {
     "data": {
      "image/png": "[encoded data removed]",
      "text/plain": [
       "<Figure size 800x200 with 1 Axes>"
      ]
     },
     "metadata": {},
     "output_type": "display_data"
    },
    {
     "name": "stdout",
     "output_type": "stream",
     "text": [
      "F1-Score for minpts value 15:\n"
     ]
    },
    {
     "data": {
      "text/plain": [
       "0.8863636363636364"
      ]
     },
     "metadata": {},
     "output_type": "display_data"
    },
    {
     "name": "stdout",
     "output_type": "stream",
     "text": [
      "Precision-Score for minpts value 15:\n"
     ]
    },
    {
     "data": {
      "text/plain": [
       "1.0"
      ]
     },
     "metadata": {},
     "output_type": "display_data"
    },
    {
     "name": "stdout",
     "output_type": "stream",
     "text": [
      "Precision-Score for minpts value 15:\n"
     ]
    },
    {
     "data": {
      "text/plain": [
       "0.7959183673469388"
      ]
     },
     "metadata": {},
     "output_type": "display_data"
    },
    {
     "data": {
      "text/plain": [
       "['48434',\n",
       " '48456',\n",
       " '48510',\n",
       " '49053',\n",
       " '49058',\n",
       " '49041',\n",
       " '48980',\n",
       " '49116',\n",
       " '48507',\n",
       " '48500',\n",
       " '48295',\n",
       " '48338',\n",
       " '49079',\n",
       " '48605',\n",
       " '48466',\n",
       " '49040',\n",
       " '48358',\n",
       " '48514',\n",
       " '48427',\n",
       " '48310',\n",
       " '48558',\n",
       " '49051',\n",
       " '48348',\n",
       " '48252',\n",
       " '48596',\n",
       " '48594',\n",
       " '48652',\n",
       " '48426',\n",
       " '49000',\n",
       " '48349',\n",
       " '48470',\n",
       " '48525',\n",
       " '48415',\n",
       " '48331',\n",
       " '48275',\n",
       " '48582',\n",
       " '48437',\n",
       " '48671',\n",
       " '49009']"
      ]
     },
     "metadata": {},
     "output_type": "display_data"
    },
    {
     "name": "stdout",
     "output_type": "stream",
     "text": [
      "Number of traces:  1199\n",
      "Number of relations:  85\n"
     ]
    },
    {
     "name": "stderr",
     "output_type": "stream",
     "text": [
      "C:\\Users\\alper\\AppData\\Local\\Temp\\ipykernel_9928\\2836719356.py:164: DeprecationWarning: Conversion of an array with ndim > 0 to a scalar is deprecated, and will error in future. Ensure you extract a single element from your array before performing this operation. (Deprecated NumPy 1.25.)\n",
      "  xs = np.arange(int(properties[\"left_ips\"]), int(properties[\"right_ips\"]), 1)\n",
      "C:\\Users\\alper\\AppData\\Local\\Temp\\ipykernel_9928\\2836719356.py:165: DeprecationWarning: Conversion of an array with ndim > 0 to a scalar is deprecated, and will error in future. Ensure you extract a single element from your array before performing this operation. (Deprecated NumPy 1.25.)\n",
      "  ax1.fill_between(xs, reach_smoothed[int(properties[\"left_ips\"]):int(properties[\"right_ips\"])], yhat[int(properties[\"left_ips\"]):int(properties[\"right_ips\"])], color='00', alpha=0.3)\n"
     ]
    },
    {
     "data": {
      "image/png": "[encoded data removed]",
      "text/plain": [
       "<Figure size 800x200 with 1 Axes>"
      ]
     },
     "metadata": {},
     "output_type": "display_data"
    },
    {
     "name": "stdout",
     "output_type": "stream",
     "text": [
      "F1-Score for minpts value 20:\n"
     ]
    },
    {
     "data": {
      "text/plain": [
       "0.8735632183908046"
      ]
     },
     "metadata": {},
     "output_type": "display_data"
    },
    {
     "name": "stdout",
     "output_type": "stream",
     "text": [
      "Precision-Score for minpts value 20:\n"
     ]
    },
    {
     "data": {
      "text/plain": [
       "1.0"
      ]
     },
     "metadata": {},
     "output_type": "display_data"
    },
    {
     "name": "stdout",
     "output_type": "stream",
     "text": [
      "Precision-Score for minpts value 20:\n"
     ]
    },
    {
     "data": {
      "text/plain": [
       "0.7755102040816326"
      ]
     },
     "metadata": {},
     "output_type": "display_data"
    },
    {
     "data": {
      "text/plain": [
       "['48434',\n",
       " '48456',\n",
       " '48510',\n",
       " '49053',\n",
       " '49058',\n",
       " '49041',\n",
       " '48980',\n",
       " '49116',\n",
       " '48507',\n",
       " '48500',\n",
       " '48295',\n",
       " '48338',\n",
       " '49079',\n",
       " '48605',\n",
       " '48466',\n",
       " '49040',\n",
       " '48358',\n",
       " '48514',\n",
       " '48427',\n",
       " '48310',\n",
       " '48252',\n",
       " '48558',\n",
       " '49051',\n",
       " '48348',\n",
       " '48652',\n",
       " '48426',\n",
       " '48596',\n",
       " '49000',\n",
       " '48594',\n",
       " '48525',\n",
       " '48470',\n",
       " '48349',\n",
       " '48415',\n",
       " '48331',\n",
       " '48275',\n",
       " '48582',\n",
       " '48437',\n",
       " '48671']"
      ]
     },
     "metadata": {},
     "output_type": "display_data"
    },
    {
     "name": "stdout",
     "output_type": "stream",
     "text": [
      "Number of traces:  1199\n",
      "Number of relations:  85\n"
     ]
    },
    {
     "name": "stderr",
     "output_type": "stream",
     "text": [
      "C:\\Users\\alper\\AppData\\Local\\Temp\\ipykernel_9928\\2836719356.py:164: DeprecationWarning: Conversion of an array with ndim > 0 to a scalar is deprecated, and will error in future. Ensure you extract a single element from your array before performing this operation. (Deprecated NumPy 1.25.)\n",
      "  xs = np.arange(int(properties[\"left_ips\"]), int(properties[\"right_ips\"]), 1)\n",
      "C:\\Users\\alper\\AppData\\Local\\Temp\\ipykernel_9928\\2836719356.py:165: DeprecationWarning: Conversion of an array with ndim > 0 to a scalar is deprecated, and will error in future. Ensure you extract a single element from your array before performing this operation. (Deprecated NumPy 1.25.)\n",
      "  ax1.fill_between(xs, reach_smoothed[int(properties[\"left_ips\"]):int(properties[\"right_ips\"])], yhat[int(properties[\"left_ips\"]):int(properties[\"right_ips\"])], color='00', alpha=0.3)\n"
     ]
    },
    {
     "data": {
      "image/png": "[encoded data removed]",
      "text/plain": [
       "<Figure size 800x200 with 1 Axes>"
      ]
     },
     "metadata": {},
     "output_type": "display_data"
    },
    {
     "name": "stdout",
     "output_type": "stream",
     "text": [
      "F1-Score for minpts value 25:\n"
     ]
    },
    {
     "data": {
      "text/plain": [
       "0.8604651162790697"
      ]
     },
     "metadata": {},
     "output_type": "display_data"
    },
    {
     "name": "stdout",
     "output_type": "stream",
     "text": [
      "Precision-Score for minpts value 25:\n"
     ]
    },
    {
     "data": {
      "text/plain": [
       "1.0"
      ]
     },
     "metadata": {},
     "output_type": "display_data"
    },
    {
     "name": "stdout",
     "output_type": "stream",
     "text": [
      "Precision-Score for minpts value 25:\n"
     ]
    },
    {
     "data": {
      "text/plain": [
       "0.7551020408163265"
      ]
     },
     "metadata": {},
     "output_type": "display_data"
    },
    {
     "data": {
      "text/plain": [
       "['48456',\n",
       " '49053',\n",
       " '49058',\n",
       " '49116',\n",
       " '48507',\n",
       " '48500',\n",
       " '49041',\n",
       " '48510',\n",
       " '48558',\n",
       " '49079',\n",
       " '48980',\n",
       " '49051',\n",
       " '48605',\n",
       " '48295',\n",
       " '48348',\n",
       " '48358',\n",
       " '48466',\n",
       " '48338',\n",
       " '49040',\n",
       " '48252',\n",
       " '48514',\n",
       " '48652',\n",
       " '48596',\n",
       " '48427',\n",
       " '48310',\n",
       " '49000',\n",
       " '48525',\n",
       " '48426',\n",
       " '48594',\n",
       " '48470',\n",
       " '48415',\n",
       " '48349',\n",
       " '48275',\n",
       " '48331',\n",
       " '48582',\n",
       " '48437',\n",
       " '48671']"
      ]
     },
     "metadata": {},
     "output_type": "display_data"
    },
    {
     "name": "stdout",
     "output_type": "stream",
     "text": [
      "AUC ROC Score for minPTS [5, 15, 20, 25, 30, 35, 40, 45]: is: \n"
     ]
    },
    {
     "data": {
      "text/plain": [
       "np.float64(0.8979591836734694)"
      ]
     },
     "metadata": {},
     "output_type": "display_data"
    },
    {
     "name": "stdout",
     "output_type": "stream",
     "text": [
      "AUC PR Score for minPTS [5, 15, 20, 25, 30, 35, 40, 45]: is: \n"
     ]
    },
    {
     "data": {
      "text/plain": [
       "np.float64(0.8042586509165801)"
      ]
     },
     "metadata": {},
     "output_type": "display_data"
    },
    {
     "name": "stdout",
     "output_type": "stream",
     "text": [
      "Mean F1-Score for minPTS [5, 15, 20, 25, 30, 35, 40, 45]: is: \n"
     ]
    },
    {
     "data": {
      "text/plain": [
       "np.float64(0.8734441447352432)"
      ]
     },
     "metadata": {},
     "output_type": "display_data"
    }
   ],
   "source": [
    "ansatz3_bpi15_10results = metrics('BPI15_1_10h_10p_6act.jsonocel', 'BPI15_1_10h_10p_anomalous_app_objects.txt', 10, 1.2)"
   ]
  },
  {
   "cell_type": "code",
   "execution_count": null,
   "metadata": {},
   "outputs": [],
   "source": [
    "ansatz3_bpi15_20results = metrics('BPI15_1_20h_20p_6act.jsonocel', 'BPIC15_1_20h_20p_6act_anomalous_app_objects.txt', 10, 1.2)"
   ]
  }
 ],
 "metadata": {
  "kernelspec": {
   "display_name": "hello",
   "language": "python",
   "name": "hello"
  },
  "language_info": {
   "codemirror_mode": {
    "name": "ipython",
    "version": 3
   },
   "file_extension": ".py",
   "mimetype": "text/x-python",
   "name": "python",
   "nbconvert_exporter": "python",
   "pygments_lexer": "ipython3",
   "version": "3.9.13"
  },
  "orig_nbformat": 4
 },
 "nbformat": 4,
 "nbformat_minor": 2
}
